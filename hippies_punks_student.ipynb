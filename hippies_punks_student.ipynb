{
 "cells": [
  {
   "cell_type": "markdown",
   "id": "8aac8cd6",
   "metadata": {},
   "source": [
    "\n",
    "# O Problema dos Hippies e Punks\n",
    "\n",
    "## Introdução\n",
    "\n",
    "O problema dos *Hippies e Punks* é uma variação do problema clássico dos *Missionários e Canibais*.\n",
    "O desafio é transportar um grupo de hippies e punks de um lado do rio para o outro, garantindo que **os punks nunca sejam maioria em relação aos hippies** em nenhum dos lados do rio. Caso contrário, os punks se rebelam e dominam os hippies!\n",
    "\n",
    "## Definição do Problema\n",
    "\n",
    "- Existem **3 hippies** e **3 punks** no lado esquerdo do rio.\n",
    "- Um **barco** pode transportar no máximo **2 pessoas** por vez e precisa de um operando.\n",
    "- O objetivo é transportar todos os hippies e punks para o outro lado do rio sem que os punks sejam maioria em qualquer momento.\n",
    "- Se em qualquer um dos lados do rio houver mais punks do que hippies, os hippies serão \"dominados\", e a tentativa falha.\n",
    "\n",
    "## Algoritmo para Resolver o Problema\n",
    "\n",
    "1. **Definir os estados possíveis**: Representamos as diferentes configurações válidas das pessoas em ambos os lados do rio.\n",
    "2. **Definir os movimentos possíveis**: Como o barco pode levar até 2 pessoas, listamos todas as combinações possíveis de transporte.\n",
    "3. **Gerar sucessores válidos**: Para cada estado válido, geramos os estados seguintes garantindo que os punks nunca sejam maioria.\n",
    "4. **Resolver o problema**: Podemos utilizar busca em profundidade (DFS) ou busca em largura (BFS) para encontrar uma solução.\n",
    "\n",
    "Vamos começar implementando a solução passo a passo.\n"
   ]
  },
  {
   "cell_type": "markdown",
   "id": "385ed747",
   "metadata": {},
   "source": [
    "\n",
    "## Pseudocódigo\n",
    "\n",
    "Aqui está um esboço do algoritmo para resolver o problema:\n",
    "\n",
    "```\n",
    "1. Definir o estado inicial: (3 hippies, 3 punks, barco à esquerda)\n",
    "2. Criar uma lista de movimentos válidos para o barco\n",
    "3. Enquanto houver estados para explorar:\n",
    "   a. Pegar o próximo estado\n",
    "   b. Para cada movimento possível:\n",
    "      i. Calcular o novo estado resultante\n",
    "      ii. Verificar se o estado é válido (punks nunca podem ser maioria)\n",
    "      iii. Se o estado for a solução, terminar o algoritmo\n",
    "      iv. Caso contrário, adicionar à lista de estados a explorar\n",
    "4. Se esgotarmos os estados sem encontrar uma solução, o problema é insolúvel.\n",
    "```\n"
   ]
  },
  {
   "cell_type": "code",
   "execution_count": null,
   "id": "bf8335b8",
   "metadata": {},
   "outputs": [
    {
     "data": {
      "text/plain": [
       "[{'punks_left': 0,\n",
       "  'hippies_left': 0,\n",
       "  'punks_right': 3,\n",
       "  'hippies_right': 3,\n",
       "  'boat': 'left'},\n",
       " {'punks_left': 0,\n",
       "  'hippies_left': 0,\n",
       "  'punks_right': 3,\n",
       "  'hippies_right': 3,\n",
       "  'boat': 'right'},\n",
       " {'punks_left': 0,\n",
       "  'hippies_left': 3,\n",
       "  'punks_right': 3,\n",
       "  'hippies_right': 0,\n",
       "  'boat': 'left'},\n",
       " {'punks_left': 0,\n",
       "  'hippies_left': 3,\n",
       "  'punks_right': 3,\n",
       "  'hippies_right': 0,\n",
       "  'boat': 'right'},\n",
       " {'punks_left': 1,\n",
       "  'hippies_left': 0,\n",
       "  'punks_right': 2,\n",
       "  'hippies_right': 3,\n",
       "  'boat': 'left'}]"
      ]
     },
     "execution_count": 1,
     "metadata": {},
     "output_type": "execute_result"
    }
   ],
   "source": [
    "import copy\n",
    "\n",
    "# Geração de estados válidos\n",
    "valid_states = []\n",
    "for punks_left in range(4):\n",
    "    for hippies_left in range(4):\n",
    "        punks_right = 3 - punks_left\n",
    "        hippies_right = 3 - hippies_left\n",
    "        for boat in ['left', 'right']:\n",
    "            if ((hippies_left >= punks_left or hippies_left == 0) and\n",
    "                (hippies_right >= punks_right or hippies_right == 0)):\n",
    "                state = {\n",
    "                    \"punks_left\": punks_left,\n",
    "                    \"hippies_left\": hippies_left,\n",
    "                    \"punks_right\": punks_right,\n",
    "                    \"hippies_right\": hippies_right,\n",
    "                    \"boat\": boat\n",
    "                }\n",
    "                valid_states.append(state)\n",
    "\n",
    "# Exibir alguns estados válidos\n",
    "valid_states[:5]  # Mostrando os primeiros 5 estados gerados\n"
   ]
  },
  {
   "cell_type": "markdown",
   "id": "fbd6b6f3",
   "metadata": {},
   "source": [
    "\n",
    "## Movimentos Possíveis\n",
    "\n",
    "O barco pode transportar no máximo **2 pessoas** por vez. As combinações permitidas de passageiros são:\n",
    "\n",
    "1. (1,0) → Levar 1 punk\n",
    "2. (0,1) → Levar 1 hippie\n",
    "3. (1,1) → Levar 1 punk e 1 hippie\n",
    "4. (2,0) → Levar 2 punks\n",
    "5. (0,2) → Levar 2 hippies\n",
    "\n",
    "Vamos definir esses movimentos como uma lista de tuplas:\n"
   ]
  },
  {
   "cell_type": "code",
   "execution_count": 2,
   "id": "15d47556",
   "metadata": {},
   "outputs": [
    {
     "data": {
      "text/plain": [
       "[(1, 0), (0, 1), (1, 1), (2, 0), (0, 2)]"
      ]
     },
     "execution_count": 2,
     "metadata": {},
     "output_type": "execute_result"
    }
   ],
   "source": [
    "# Definição dos movimentos possíveis\n",
    "moves = [(1,0), (0,1), (1,1), (2,0), (0,2)]\n",
    "moves"
   ]
  },
  {
   "cell_type": "markdown",
   "id": "3518dc73",
   "metadata": {},
   "source": [
    "\n",
    "## Função para Gerar Estados Sucessores\n",
    "\n",
    "Agora, criamos uma função para gerar os estados sucessores válidos a partir de um estado atual, garantindo que **os punks nunca sejam maioria em qualquer lado do rio**.\n"
   ]
  },
  {
   "cell_type": "code",
   "execution_count": null,
   "id": "dd25b85a",
   "metadata": {},
   "outputs": [],
   "source": [
    "def is_valid_state(state):\n",
    "\n",
    "\n",
    "    #verifica se ta entre 0 e 3 (inclusive)\n",
    "    if not (0 <= state['punks_left'] <= 3 and 0 <= state['hippies_left'] <= 3 and \n",
    "            0 <= state['punks_right'] <= 3 and 0 <= state['hippies_right'] <= 3):\n",
    "        return False\n",
    "    \n",
    "    #caso haja hippies na esquerda verifica se ha punks tb, se sim verifica se sao mais do que os hippies, caso sim GG\n",
    "    if state['hippies_left'] > 0 and state['punks_left'] > state['hippies_left']:\n",
    "        return False\n",
    "    \n",
    "    #caso haja hippies na direita verifica se ha punks tb, se sim verifica se sao mais do que os hippies, caso sim GG\n",
    "    if state['hippies_right'] > 0 and state['punks_right'] > state['hippies_right']:\n",
    "        return False\n",
    "    \n",
    "    return True\n",
    "    \n",
    "def get_valid_successor_states_and_moves(current_state, moves):    \n",
    "    \n",
    " return valid_successors\n"
   ]
  },
  {
   "cell_type": "markdown",
   "id": "847e9a3a",
   "metadata": {},
   "source": [
    "\n",
    "## Testando a Geração de Estados Válidos\n",
    "\n",
    "Vamos testar a função com um estado inicial onde todos os hippies e punks estão no lado esquerdo do rio.\n"
   ]
  },
  {
   "cell_type": "code",
   "execution_count": 4,
   "id": "8fe0a59d",
   "metadata": {},
   "outputs": [
    {
     "data": {
      "text/plain": [
       "[({'punks_left': 2,\n",
       "   'hippies_left': 3,\n",
       "   'punks_right': 1,\n",
       "   'hippies_right': 0,\n",
       "   'boat': 'right'},\n",
       "  (1, 0)),\n",
       " ({'punks_left': 2,\n",
       "   'hippies_left': 2,\n",
       "   'punks_right': 1,\n",
       "   'hippies_right': 1,\n",
       "   'boat': 'right'},\n",
       "  (1, 1)),\n",
       " ({'punks_left': 1,\n",
       "   'hippies_left': 3,\n",
       "   'punks_right': 2,\n",
       "   'hippies_right': 0,\n",
       "   'boat': 'right'},\n",
       "  (2, 0))]"
      ]
     },
     "execution_count": 4,
     "metadata": {},
     "output_type": "execute_result"
    }
   ],
   "source": [
    "\n",
    "initial_state = {\n",
    "    'punks_left': 3,\n",
    "    'hippies_left': 3,\n",
    "    'punks_right': 0,\n",
    "    'hippies_right': 0,\n",
    "    'boat': 'left'\n",
    "}\n",
    "\n",
    "successors = get_valid_successor_states_and_moves(initial_state, moves)\n",
    "successors\n"
   ]
  },
  {
   "cell_type": "markdown",
   "id": "a9ee7b2c",
   "metadata": {},
   "source": [
    "## BFS\n",
    "\n",
    "- Criar uma FILA (queue) para armazenar os estados a explorar, iniciando com o estado inicial.\n",
    "- Criar um CONJUNTO (set) de estados visitados para evitar repetições.\n",
    "- Enquanto houver estados na FILA:\n",
    "   - Remover o primeiro estado da FILA.\n",
    "   - Se o estado for o ESTADO FINAL (todos os hippies e punks na margem direita), RETORNAR o caminho até ele.\n",
    "   \n",
    "   - Para cada movimento permitido:\n",
    "      - Gerar um NOVO ESTADO aplicando o movimento.\n",
    "      - Se o NOVO ESTADO for válido e ainda não tiver sido visitado:\n",
    "         - Adicionar o NOVO ESTADO na FILA.\n",
    "         - Marcar o estado como VISITADO.\n",
    "- Se a FILA esvaziar sem encontrar a solução, RETORNAR \"Nenhuma solução encontrada\".\n"
   ]
  },
  {
   "cell_type": "code",
   "execution_count": 6,
   "id": "857a3100",
   "metadata": {},
   "outputs": [
    {
     "data": {
      "text/plain": [
       "{'punks_left': 3,\n",
       " 'hippies_left': 3,\n",
       " 'punks_right': 0,\n",
       " 'hippies_right': 0,\n",
       " 'boat': 'left'}"
      ]
     },
     "execution_count": 6,
     "metadata": {},
     "output_type": "execute_result"
    }
   ],
   "source": [
    "initial_state"
   ]
  },
  {
   "cell_type": "code",
   "execution_count": 7,
   "id": "7f929484",
   "metadata": {},
   "outputs": [
    {
     "name": "stdout",
     "output_type": "stream",
     "text": [
      "Sequência de movimentos para solução ótima: [(1, 1), (0, 1), (2, 0), (1, 0), (0, 2), (1, 1), (0, 2), (1, 0), (2, 0), (1, 0), (2, 0)]\n"
     ]
    }
   ],
   "source": [
    "from collections import deque\n",
    "\n",
    "def bfs(initial_state):\n",
    "    \n",
    "    # Fila de estados a explorar [(estado, caminho)]\n",
    "    queue = deque([(initial_state, [])])\n",
    "    \n",
    "    print(queue)\n",
    "\n",
    "    # Conjunto de estados já visitados\n",
    "    visited = set()\n",
    "\n",
    "    while queue:\n",
    "        \n",
    "        # Explorar o estado mais próximo\n",
    "        current_state, path = queue.popleft()\n",
    "\n",
    "        # Se chegamos ao estado final, retornamos o caminho até ele\n",
    "        \n",
    "\n",
    "        # Se o estado já foi visitado, ignoramos\n",
    "        \n",
    "\n",
    "        # Gerar sucessores válidos\n",
    "        for successor, move in get_valid_successor_states_and_moves(current_state, moves):\n",
    "            \n",
    "            # Adicionar sucessor à fila\n",
    "            queue.append((successor, path + [move]))\n",
    "\n",
    "     # Se não encontrar solução\n",
    "    return None\n",
    "\n",
    "# Estado inicial\n",
    "initial_state = {\n",
    "    'punks_left': 3,\n",
    "    'hippies_left': 3,\n",
    "    'punks_right': 0,\n",
    "    'hippies_right': 0,\n",
    "    'boat': 'left'\n",
    "}\n",
    "\n",
    "solution_path = bfs(initial_state)\n",
    "\n",
    "print(\"Sequência de movimentos para solução ótima:\", solution_path)\n"
   ]
  },
  {
   "cell_type": "code",
   "execution_count": null,
   "id": "fcbe4653",
   "metadata": {},
   "outputs": [],
   "source": []
  }
 ],
 "metadata": {
  "kernelspec": {
   "display_name": "Python 3",
   "language": "python",
   "name": "python3"
  },
  "language_info": {
   "codemirror_mode": {
    "name": "ipython",
    "version": 3
   },
   "file_extension": ".py",
   "mimetype": "text/x-python",
   "name": "python",
   "nbconvert_exporter": "python",
   "pygments_lexer": "ipython3",
   "version": "3.12.1"
  }
 },
 "nbformat": 4,
 "nbformat_minor": 5
}
