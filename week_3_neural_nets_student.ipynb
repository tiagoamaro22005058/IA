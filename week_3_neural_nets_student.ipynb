{
 "cells": [
  {
   "cell_type": "markdown",
   "id": "f5a791cb",
   "metadata": {},
   "source": [
    "# Exercício: Redes Neurais de McCulloch e Pitts\n",
    "\n",
    "## Objetivo\n",
    "\n",
    "1. **Implementação de um Neurônio McCulloch-Pitts** para simular portas lógicas.\n",
    "2. **Controle de Sinais com Redes Neurais**.\n",
    "3. **Implementação de um Escalador Binário**.\n"
   ]
  },
  {
   "attachments": {
    "image.png": {
     "image/png": "[encoded data removed]"
    }
   },
   "cell_type": "markdown",
   "id": "f022e60e",
   "metadata": {},
   "source": [
    "## Passo 1: Criando um Neurônio McCulloch-Pitts\n",
    "\n",
    "O modelo de McCulloch e Pitts é um dos primeiros modelos de neurônio artificial.\n",
    "\n",
    "### **Estrutura do Neurônio**\n",
    "\n",
    "O neurônio de McCulloch-Pitts é composto por:\n",
    "\n",
    "1. **Entradas** (inputs): sinais de entrada que são multiplicados por pesos.\n",
    "2. **Pesos** (weights): valores que multiplicam as entradas.\n",
    "3. **Limiar de Ativação** (threshold): valor que define se o neurônio será ativado ou não.\n",
    "\n",
    "Um neurônio artificial recebe entradas binárias (0 ou 1) associadas a pesos.\n",
    "\n",
    "Ele soma as entradas ponderadas e compara com um limiar de ativação.\n",
    "\n",
    "\n",
    "### **Soma Ponderada**\n",
    "A soma ponderada consiste em multiplicar cada entrada pelo seu respectivo peso e somar os valores obtidos:\n",
    "\n",
    "![image.png](attachment:image.png)\n",
    "\n",
    "Se `net_input ≥ threshold`, então `saída = 1`, caso contrário, `saída = 0`."
   ]
  },
  {
   "cell_type": "code",
   "execution_count": null,
   "id": "5986df2f",
   "metadata": {},
   "outputs": [
    {
     "name": "stdout",
     "output_type": "stream",
     "text": [
      "Tabela verdade da porta AND:\n",
      "Entrada: [0 0 0] -> Saída: 0\n",
      "Entrada: [0 1 1] -> Saída: 0\n",
      "Entrada: [1 0 0] -> Saída: 0\n",
      "Entrada: [1 1 1] -> Saída: 1\n"
     ]
    }
   ],
   "source": [
    "import numpy as np\n",
    "\n",
    "class McCullochPittsNeuron:\n",
    "    def __init__(self, weights, threshold):\n",
    "        \"\"\"Inicializa o neurônio com pesos e um limiar de ativação.\"\"\"\n",
    "        self.weights = weights\n",
    "        self.threshold = threshold\n",
    "\n",
    "\n",
    "    def activate(self, inputs):\n",
    "        \"\"\"Calcula a saída do neurônio.\"\"\"\n",
    "        soma = np.dot(inputs, self.weights)\n",
    "        return 1 if soma == self.threshold else 0\n",
    "\n",
    "# Testando com a porta lógica AND\n",
    "inputs = np.array([[0, 0, 0], [0, 1, 1], [1, 0, 0], [1, 1, 1]])\n",
    "and_neuron = McCullochPittsNeuron(weights=[1,1, 1],threshold=3)\n",
    "outputs = [and_neuron.activate(i) for i in inputs]\n",
    "\n",
    "print(\"Tabela verdade da porta AND:\")\n",
    "for inp, out in zip(inputs, outputs):\n",
    "    print(f\"Entrada: {inp} -> Saída: {out}\")"
   ]
  },
  {
   "cell_type": "markdown",
   "id": "0dadcc78",
   "metadata": {},
   "source": [
    "## Passo 2: Controle de Sinais\n",
    "\n",
    "Criamos uma rede que controla para onde um sinal de entrada será enviado, dependendo do estado de um **sinal de controle**."
   ]
  },
  {
   "cell_type": "code",
   "execution_count": null,
   "id": "ffafd087",
   "metadata": {},
   "outputs": [],
   "source": [
    "class SignalGate:\n",
    "    def __init__(self):\n",
    "        \"\"\"Inicializa o estado do controle.\"\"\"\n",
    "        \n",
    "\n",
    "    def process(self, input_signal, control_signal):\n",
    "        \"\"\"Encaminha o sinal de entrada dependendo do controle.\"\"\"\n",
    "        \n",
    "\n",
    "# Testando o controle\n",
    "test_cases = [(1, 0), (1, 1), (0, 0)]\n",
    "sg = SignalGate()\n",
    "\n",
    "for input_signal, control_signal in test_cases:\n",
    "    output = sg.process(input_signal, control_signal)\n",
    "    print(f\"Entrada: {input_signal}, Controle: {control_signal} -> Direcionado para {output}\")"
   ]
  },
  {
   "cell_type": "markdown",
   "id": "3bca59f1",
   "metadata": {},
   "source": [
    "## Passo 3: Criando um Escalador Binário\n",
    "\n",
    "O **escalador binário** emite um pulso de saída **(1)** a cada dois pulsos de entrada **(1)**."
   ]
  },
  {
   "cell_type": "code",
   "execution_count": null,
   "id": "df584593",
   "metadata": {},
   "outputs": [],
   "source": [
    "class BinaryScaler:\n",
    "    def __init__(self):\n",
    "        \"\"\"Inicializa o contador interno.\"\"\"\n",
    "\n",
    "    def process(self, input_signal):\n",
    "        \"\"\"Produz um pulso de saída a cada dois pulsos de entrada.\"\"\"\n",
    "\n",
    "\n",
    "# Testando o escalador binário\n",
    "bs = BinaryScaler()\n",
    "test_input = [1, 0, 1, 1, 0, 1, 1, 1]\n",
    "output_signals = [bs.process(i) for i in test_input]\n",
    "\n",
    "output_signals"
   ]
  }
 ],
 "metadata": {
  "kernelspec": {
   "display_name": "Python 3",
   "language": "python",
   "name": "python3"
  },
  "language_info": {
   "codemirror_mode": {
    "name": "ipython",
    "version": 3
   },
   "file_extension": ".py",
   "mimetype": "text/x-python",
   "name": "python",
   "nbconvert_exporter": "python",
   "pygments_lexer": "ipython3",
   "version": "3.12.1"
  }
 },
 "nbformat": 4,
 "nbformat_minor": 5
}
