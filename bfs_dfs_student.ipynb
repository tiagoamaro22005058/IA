{
  "cells": [
    {
      "cell_type": "markdown",
      "metadata": {
        "id": "Yin9kIADB-2S"
      },
      "source": [
        "# Imports"
      ]
    },
    {
      "cell_type": "code",
      "execution_count": 1,
      "metadata": {
        "id": "87vlluaNB-2V"
      },
      "outputs": [],
      "source": [
        "# se não tiver instalado\n",
        "# !pip install networkx"
      ]
    },
    {
      "cell_type": "code",
      "execution_count": 17,
      "metadata": {
        "id": "lf71rxRYB-2V"
      },
      "outputs": [],
      "source": [
        "import matplotlib.pyplot as plt\n",
        "import networkx as nx"
      ]
    },
    {
      "cell_type": "markdown",
      "metadata": {
        "id": "C0YsKnU4B-2W"
      },
      "source": [
        "# Breadth-First Search - BFS\n",
        "\n",
        "Este notebook mostra passo a passo como o algoritmo BFS (Busca em Largura) visita os nós de um grafo. O algoritmo BFS é um algoritmo de busca em grafos que começa em um nó raiz e explora todos os seus vizinhos antes de avançar para os vizinhos dos vizinhos.\n",
        "\n",
        "O algoritmo BFS é implementado usando uma fila.\n",
        "\n",
        "- O algoritmo começa com a inserção do nó raiz na fila.\n",
        "- Em seguida, ele remove o nó da fila e explora todos os seus vizinhos.\n",
        "- Os vizinhos são inseridos na fila. O algoritmo continua até que a fila esteja vazia.\n",
        "\n",
        "O algoritmo BFS é usado para encontrar **o menor caminho entre dois nós em um grafo sem pesos**.\n",
        "\n",
        "Passo a passo:\n",
        "\n",
        "1. Escolha um nó inicial e o adicione à fila.\n",
        "2. Marque esse nó como visitado.\n",
        "3. Enquanto a fila não estiver vazia:\n",
        "    Remova o primeiro nó da fila.\n",
        "\n",
        "    Visite todos os vizinhos não visitados desse nó.\n",
        "\n",
        "    Adicione os vizinhos à fila e marque-os como visitados."
      ]
    },
    {
      "cell_type": "markdown",
      "metadata": {
        "id": "ReVRZP7zB-2W"
      },
      "source": [
        "### Função para desenhar o grafo"
      ]
    },
    {
      "cell_type": "code",
      "execution_count": 20,
      "metadata": {
        "id": "od_ZRbrBB-2X"
      },
      "outputs": [],
      "source": [
        "def desenhar_grafo(G, visitados, fila=[], titulo=\"\"):\n",
        "    plt.figure(figsize=(6, 4))\n",
        "    cores = ['lightgreen' if node in visitados else 'skyblue' for node in G.nodes()]\n",
        "    labels = {n: n for n in G.nodes()}\n",
        "    nx.draw(G, pos, with_labels=True, labels=labels, node_color=cores,\n",
        "            edge_color='gray', node_size=2000, font_size=14, font_weight='bold')\n",
        "    if fila:\n",
        "        fila_texto = \"Fila: [\" + \", \".join(fila) + \"]\"\n",
        "        plt.figtext(0.5, 0.01, fila_texto, wrap=True, horizontalalignment='center', fontsize=12)\n",
        "    plt.title(titulo)\n",
        "    plt.axis('off')\n",
        "    plt.show()"
      ]
    },
    {
      "cell_type": "markdown",
      "metadata": {
        "id": "13NO4lWRB-2X"
      },
      "source": [
        "### Grafo"
      ]
    },
    {
      "cell_type": "code",
      "execution_count": 15,
      "metadata": {
        "id": "k-L7km3XB-2X"
      },
      "outputs": [],
      "source": [
        "grafo = {\n",
        "    'A': ['B', 'C'],\n",
        "    'B': ['A', 'D'],\n",
        "    'C': ['A', 'E'],\n",
        "    'D': ['B'],\n",
        "    'E': ['C']\n",
        "}"
      ]
    },
    {
      "cell_type": "code",
      "execution_count": 5,
      "metadata": {
        "colab": {
          "base_uri": "https://localhost:8080/"
        },
        "id": "XUFjeoO9DzbT",
        "outputId": "aa3a9e54-a54e-4bc2-80bc-339711a7ca43"
      },
      "outputs": [
        {
          "data": {
            "text/plain": [
              "dict_items([('A', ['B', 'C']), ('B', ['A', 'D']), ('C', ['A', 'E']), ('D', ['B']), ('E', ['C'])])"
            ]
          },
          "execution_count": 5,
          "metadata": {},
          "output_type": "execute_result"
        }
      ],
      "source": [
        "grafo.items()"
      ]
    },
    {
      "cell_type": "code",
      "execution_count": 19,
      "metadata": {
        "id": "XGGvCtPnB-2X"
      },
      "outputs": [],
      "source": [
        "G = nx.Graph()\n",
        "\n",
        "# estamos adicionado os nós e suas arestas aos seus vizinhos\n",
        "for origem, vizinhos in grafo.items():\n",
        "    for destino in vizinhos:\n",
        "        G.add_edge(origem, destino)\n",
        "\n",
        "pos = nx.spring_layout(G, seed=42)"
      ]
    },
    {
      "cell_type": "markdown",
      "metadata": {
        "id": "4tEu92AEB-2Y"
      },
      "source": [
        "### Implementando o BFS"
      ]
    },
    {
      "cell_type": "code",
      "execution_count": null,
      "metadata": {
        "colab": {
          "base_uri": "https://localhost:8080/",
          "height": 1000
        },
        "id": "v9YIq1MlB-2Y",
        "outputId": "4bd1971d-77c1-47fd-c040-b48dfce9bd78"
      },
      "outputs": [
        {
          "name": "stdout",
          "output_type": "stream",
          "text": [
            "A B C D E "
          ]
        }
      ],
      "source": [
        "\n",
        "def bfs(grafo, inicio):\n",
        "    visitados = set()\n",
        "    fila = [inicio]\n",
        "    \n",
        "    while fila:\n",
        "        vertice = fila.pop(0) #tira no atual\n",
        "        if vertice not in visitados:\n",
        "            print(vertice, end=\" \")\n",
        "            visitados.add(vertice) #adiciona no atual\n",
        "            fila.extend(v for v in grafo[vertice] if v not in visitados)\n",
        "\n",
        "bfs(grafo, 'A')\n"
      ]
    },
    {
      "cell_type": "markdown",
      "metadata": {
        "id": "k6C8lgF8B-2Z"
      },
      "source": [
        "Passos de visita (começando de 'A'):\n",
        "Começa com ['A'] na fila\n",
        "\n",
        "Remove A, visita: visitados = [A] → adiciona B, C na fila → fila: [B, C]\n",
        "\n",
        "Remove B, visita: visitados = [A, B] → D entra na fila → fila: [C, D]\n",
        "\n",
        "Remove C, visita: visitados = [A, B, C] → E entra na fila → fila: [D, E]\n",
        "\n",
        "Remove D, visita: visitados = [A, B, C, D] → fila: [E]\n",
        "\n",
        "Remove E, visita: visitados = [A, B, C, D, E] → fila: []"
      ]
    },
    {
      "cell_type": "markdown",
      "metadata": {
        "id": "auUvuecvB-2Z"
      },
      "source": [
        "## Depth-First Search - DFS\n",
        "\n",
        "O algoritmo DFS (Busca em Profundidade) é um algoritmo de busca em grafos que começa em um nó raiz e explora o máximo possível ao longo de cada ramo antes de retroceder.\n",
        "\n",
        "O algoritmo DFS é implementado usando uma pilha.\n",
        "\n",
        "- O algoritmo começa com a inserção do nó raiz na pilha.\n",
        "- Em seguida, ele remove o nó da pilha e explora todos os seus vizinhos.\n",
        "- Os vizinhos são inseridos na pilha.\n",
        "- O algoritmo continua até que a pilha esteja vazia.\n",
        "\n",
        "O DFS **não garante que o menor caminho entre dois nós seja encontrado**.\n"
      ]
    },
    {
      "cell_type": "code",
      "execution_count": 15,
      "metadata": {
        "id": "kzvfofYuB-2Z"
      },
      "outputs": [],
      "source": []
    },
    {
      "cell_type": "code",
      "execution_count": null,
      "metadata": {
        "colab": {
          "base_uri": "https://localhost:8080/",
          "height": 1000
        },
        "id": "_oiZC-lSB-2Z",
        "outputId": "2ddfa862-3e2e-4649-9d98-8cdd35d5a115"
      },
      "outputs": [],
      "source": []
    },
    {
      "cell_type": "markdown",
      "metadata": {
        "id": "6amiJBG1B-2Z"
      },
      "source": [
        "## Comparação: BFS vs DFS\n",
        "\n",
        "| Aspecto         | BFS                        | DFS                      |\n",
        "|-----------------|----------------------------|--------------------------|\n",
        "| Estratégia      | Largura (camadas)          | Profundidade (caminhos)  |\n",
        "| Estrutura usada | Fila (queue)               | Pilha (stack)            |\n",
        "| Caminho mínimo  | Sim (sem pesos)            | Não                      |"
      ]
    },
    {
      "cell_type": "markdown",
      "metadata": {},
      "source": [
        "- que tal irmos ao notebook de hippies_and_punks agora?"
      ]
    },
    {
      "cell_type": "markdown",
      "metadata": {},
      "source": []
    }
  ],
  "metadata": {
    "colab": {
      "provenance": []
    },
    "kernelspec": {
      "display_name": "base",
      "language": "python",
      "name": "python3"
    },
    "language_info": {
      "codemirror_mode": {
        "name": "ipython",
        "version": 3
      },
      "file_extension": ".py",
      "mimetype": "text/x-python",
      "name": "python",
      "nbconvert_exporter": "python",
      "pygments_lexer": "ipython3",
      "version": "3.12.7"
    }
  },
  "nbformat": 4,
  "nbformat_minor": 0
}
