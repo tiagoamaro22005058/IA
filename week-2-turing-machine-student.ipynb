{
 "cells": [
  {
   "cell_type": "markdown",
   "metadata": {},
   "source": [
    "\n",
    "# **Máquina de Turing: Implementação Passo a Passo**\n",
    "## Introdução\n",
    "\n",
    "A **Máquina de Turing** é um modelo teórico de computação criado por Alan Turing em 1936.  \n",
    "Ela é composta por uma fita infinita dividida em células, um ponteiro de leitura/escrita e um conjunto de regras de transição.\n",
    "\n",
    "### **Componentes principais:**\n",
    "1. **Fita**: Um conjunto de células que podem conter símbolos.\n",
    "2. **Ponteiro de Leitura/Escrita**: Um cursor que lê e modifica a fita.\n",
    "3. **Estados**: A máquina possui um estado atual e segue regras de transição.\n",
    "4. **Regras de Transição**: Um conjunto de instruções que definem como a máquina reage a diferentes símbolos.\n",
    "\n",
    "Neste notebook, implementaremos uma **Máquina de Turing simples** passo a passo, explicando cada etapa e testando o funcionamento da máquina conforme avançamos.\n",
    "    "
   ]
  },
  {
   "cell_type": "markdown",
   "metadata": {},
   "source": [
    "## **Importando Bibliotecas**"
   ]
  },
  {
   "cell_type": "code",
   "execution_count": 1,
   "metadata": {},
   "outputs": [],
   "source": [
    "import pandas as pd\n"
   ]
  },
  {
   "cell_type": "markdown",
   "metadata": {},
   "source": [
    "\n",
    "## **Criando a Classe da Máquina de Turing**\n",
    "\n",
    "A Máquina de Turing será representada por uma classe `TuringMachine`.  \n",
    "Ela possui três elementos principais:\n",
    "- A **fita** (`tape`): onde os dados são armazenados.\n",
    "- O **Ponteiro** (`head_position`): que se move para a esquerda ou para a direita.\n",
    "- O **estado atual** (`state`): que define a ação a ser executada.\n",
    "\n",
    "Abaixo, definimos essa estrutura.\n",
    "    "
   ]
  },
  {
   "cell_type": "code",
   "execution_count": 23,
   "metadata": {},
   "outputs": [],
   "source": [
    "class TuringMachine:\n",
    "    def __init__(self, tape, head_position, initial_state):\n",
    "        self.tape = tape\n",
    "        self.head_position = head_position\n",
    "        self.state = initial_state\n",
    "        self.rules = {  \n",
    "            ('0', 'q0'): ('_', 'R', 'q1'),\n",
    "            ('0', 'q1'): ('_', 'R', 'q0'),\n",
    "            ('1', 'q0'): ('_', 'R', 'q0'),\n",
    "            ('1', 'q1'): ('_', 'R', 'q1'),\n",
    "            ('B', 'q0'): ('0', 'L', 'qf'),\n",
    "            ('B', 'q1'): ('1', 'L', 'qf'),\n",
    "        }\n",
    "        self.newrules = {\n",
    "            ('0', 'q0'): ('1', 'R', 'q1'),\n",
    "            ('0', 'q1'): ('1', 'R', 'q0'),\n",
    "            ('1', 'q0'): ('0', 'R', 'q0'),\n",
    "            ('1', 'q1'): ('0', 'R', 'q1'),\n",
    "            ('B', 'q0'): ('B', 'L', 'qf'),\n",
    "            ('B', 'q1'): ('B', 'L', 'qf'),\n",
    "        }\n",
    "\n",
    "    def display(self):\n",
    "        tape_display = \"\".join(self.tape)\n",
    "        head_marker = f'{\" \" * self.head_position}^' \n",
    "        print(f'{tape_display}\\n{head_marker}\\nState: {self.state}')\n",
    "\n",
    "    def execute(self):\n",
    "        if self.state =='qf':\n",
    "            print(\"end\")\n",
    "            return\n",
    "        \n",
    "        current_symbol = self.tape[self.head_position] if self.head_position < len(self.tape) else 'B' #se for mais pequeno que len(tape) entra se nao 'B'\n",
    "        key = (current_symbol, self.state) # exemplo key vai ser no inicio -> (0, q0)\n",
    "\n",
    "        if key in self.rules:\n",
    "            new_symbol, move, new_state = self.rules[key] # no caso ele entra no if se houver key igual ao que ta na matriz, ele verifica o seu equivalente\n",
    "\n",
    "            self.tape[self.head_position] = new_symbol #   < NAO CRIA UMA LISTA NOVA, substitui de acordo com o simblo dado nas rules acima\n",
    "\n",
    "            if move == 'R':\n",
    "                self.head_position += 1\n",
    "            elif move == 'L':\n",
    "                self.head_position = max(0, self.head_position - 1)\n",
    "\n",
    "            self.state = new_state # atualiza o estado, no caso tipo q0 para q1\n",
    "        else:\n",
    "            print(\"Erro\")\n",
    "\n",
    "    def run(self):\n",
    "        while self.state != 'qf': # corre ate acaber aka: qf\n",
    "            self.display()\n",
    "            self.execute()\n",
    "        print(\"\\nFim\")\n",
    "\n",
    "    def zeros_e_uns(self):\n",
    "        if self.state =='qf':\n",
    "            print(\"end\")\n",
    "            return\n",
    "        \n",
    "        current_symbol = self.tape[self.head_position] if self.head_position < len(self.tape) else 'B'\n",
    "        key = (current_symbol, self.state)\n",
    "\n",
    "        if key in self.newrules:\n",
    "            new_symbol, move, new_state = self.newrules[key]\n",
    "            self.tape[self.head_position] = new_symbol \n",
    "            if move == 'R':\n",
    "                self.head_position += 1\n",
    "            elif move == 'L':\n",
    "                self.head_position = max(0, self.head_position - 1)\n",
    "            self.state = new_state \n",
    "        else:\n",
    "            print(\"Erro\")\n",
    "\n",
    "    def runUnsEZeros(self):\n",
    "        while self.state != 'qf':\n",
    "            self.display()\n",
    "            self.zeros_e_uns()\n",
    "        print(\"\\nFim\")     \n",
    "\n"
   ]
  },
  {
   "cell_type": "markdown",
   "metadata": {},
   "source": [
    "### **Teste 1: Criando um objeto da Máquina de Turing**"
   ]
  },
  {
   "cell_type": "markdown",
   "metadata": {},
   "source": []
  },
  {
   "cell_type": "code",
   "execution_count": 17,
   "metadata": {},
   "outputs": [
    {
     "name": "stdout",
     "output_type": "stream",
     "text": [
      "01B01\n",
      "^\n",
      "State: q0\n",
      "_1B01\n",
      " ^\n",
      "State: q1\n",
      "__B01\n",
      "  ^\n",
      "State: q1\n",
      "\n",
      "Fim\n"
     ]
    }
   ],
   "source": [
    "\n",
    "maquina = TuringMachine([\"0\", \"1\", \"B\",\"0\",\"1\"], 0, \"q0\")\n",
    "maquina.run()\n"
   ]
  },
  {
   "cell_type": "markdown",
   "metadata": {},
   "source": [
    "\n",
    "## **Visualizando o Estado da Máquina**\n",
    "\n",
    "Criamos um método para exibir o estado da fita e do Ponteiro em um formato mais intuitivo.\n",
    "    "
   ]
  },
  {
   "cell_type": "code",
   "execution_count": 4,
   "metadata": {},
   "outputs": [],
   "source": [
    "    "
   ]
  },
  {
   "cell_type": "markdown",
   "metadata": {},
   "source": [
    "### **Teste 2: Exibindo a fita e a posição do Ponteiro**"
   ]
  },
  {
   "cell_type": "code",
   "execution_count": 21,
   "metadata": {},
   "outputs": [
    {
     "ename": "NameError",
     "evalue": "name 'initial_position' is not defined",
     "output_type": "error",
     "traceback": [
      "\u001b[0;31m---------------------------------------------------------------------------\u001b[0m",
      "\u001b[0;31mNameError\u001b[0m                                 Traceback (most recent call last)",
      "Cell \u001b[0;32mIn[21], line 1\u001b[0m\n\u001b[0;32m----> 1\u001b[0m machine \u001b[38;5;241m=\u001b[39m TuringMachine(tape, \u001b[43minitial_position\u001b[49m, initial_state)\n\u001b[1;32m      2\u001b[0m machine\u001b[38;5;241m.\u001b[39mdisplay()\n",
      "\u001b[0;31mNameError\u001b[0m: name 'initial_position' is not defined"
     ]
    }
   ],
   "source": [
    "machine = TuringMachine(tape, initial_position, initial_state)\n",
    "machine.display()"
   ]
  },
  {
   "cell_type": "markdown",
   "metadata": {},
   "source": [
    "\n",
    "## **Movendo o Ponteiro**\n",
    "\n",
    "Agora, implementamos um método que permite que o Ponteiro se mova para a esquerda (`L`) ou para a direita (`R`).\n",
    "    "
   ]
  },
  {
   "cell_type": "code",
   "execution_count": 6,
   "metadata": {},
   "outputs": [],
   "source": [
    "    "
   ]
  },
  {
   "cell_type": "markdown",
   "metadata": {},
   "source": [
    "### **Teste 3: Movendo o Ponteiro para a direita e para a esquerda**"
   ]
  },
  {
   "cell_type": "code",
   "execution_count": 24,
   "metadata": {},
   "outputs": [
    {
     "name": "stdout",
     "output_type": "stream",
     "text": [
      "01B01\n",
      "^\n",
      "State: q0\n",
      "Movendo para a direita\n",
      "01B01\n",
      " ^\n",
      "State: q0\n",
      "Movendo para a esquerda\n",
      "01B01\n",
      "^\n",
      "State: q0\n"
     ]
    }
   ],
   "source": [
    "\n",
    "machine = TuringMachine(tape, 0, 'q0')\n",
    "machine.display()\n",
    "\n",
    "print(\"Movendo para a direita\")\n",
    "machine.move_head('R')\n",
    "machine.display()\n",
    "\n",
    "print(\"Movendo para a esquerda\")\n",
    "machine.move_head('L')\n",
    "machine.display()\n",
    "    "
   ]
  },
  {
   "cell_type": "markdown",
   "metadata": {},
   "source": [
    "\n",
    "## **Definindo as Regras de Transição**\n",
    "\n",
    "Cada regra define:\n",
    "- O símbolo lido na fita.\n",
    "- O estado atual da máquina.\n",
    "- O símbolo que será escrito na fita.\n",
    "- O movimento do Ponteiro (`L` para esquerda, `R` para direita).\n",
    "- O novo estado após a transição.\n",
    "\n",
    "O programa será carregado a partir de um arquivo CSV.\n",
    "    "
   ]
  },
  {
   "cell_type": "markdown",
   "metadata": {},
   "source": [
    "### **Fita Inicial**\n",
    "A fita contém a seguinte sequência de símbolos:\n",
    "```\n",
    "['0', '1', 'B', '0', '1']\n",
    "```\n",
    "Cada célula pode conter um símbolo, e a máquina inicia a leitura a partir do primeiro símbolo (`0`).\n",
    "\n",
    "### **Objetivo da Máquina**\n",
    "A Máquina de Turing percorre a fita e substitui `0` e `1` por `_` até encontrar um espaço em branco (`B`). Quando encontra `B`, escreve `0`, move-se para a esquerda e entra no estado final `qf`.\n",
    "\n",
    "### **Regras de Transição**\n",
    "A máquina segue as seguintes regras:\n",
    "\n",
    "| Símbolo Atual | Estado Atual | Novo Símbolo | Movimento | Novo Estado |\n",
    "|--------------|-------------|-------------|-----------|------------|\n",
    "| 0            | q0          | _           | R         | q1         |\n",
    "| 0            | q1          | _           | R         | q0         |\n",
    "| 1            | q0          | _           | R         | q0         |\n",
    "| 1            | q1          | _           | R         | q1         |\n",
    "| B            | q0          | 0           | L         | qf         |\n",
    "| B            | q1          | 1           | L         | qf         |\n",
    "\n",
    "### **Resultado Esperado**\n",
    "Após a execução, a fita deve conter:\n",
    "```\n",
    "['_', '_', '1', '0', '1']\n",
    "```"
   ]
  },
  {
   "cell_type": "code",
   "execution_count": 2,
   "metadata": {},
   "outputs": [
    {
     "ename": "IndentationError",
     "evalue": "expected an indented block after function definition on line 1 (1672267053.py, line 6)",
     "output_type": "error",
     "traceback": [
      "\u001b[0;36m  Cell \u001b[0;32mIn[2], line 6\u001b[0;36m\u001b[0m\n\u001b[0;31m    program = pd.read_csv('./turing-machine-example-program.csv', delimiter=';')\u001b[0m\n\u001b[0m    ^\u001b[0m\n\u001b[0;31mIndentationError\u001b[0m\u001b[0;31m:\u001b[0m expected an indented block after function definition on line 1\n"
     ]
    }
   ],
   "source": [
    "def run_turing_machine(machine, program):\n",
    "\n",
    "\n",
    "\n",
    "# Carregar o programa via arquivo CSV\n",
    "program = pd.read_csv('./turing-machine-example-program.csv', delimiter=';')\n",
    "\n",
    "# Exibir as regras do programa\n",
    "print(\"Regras de transição carregadas:\")\n",
    "display(program)"
   ]
  },
  {
   "cell_type": "markdown",
   "metadata": {},
   "source": [
    "\n",
    "## **Execução da Máquina de Turing**\n",
    "\n",
    "Agora, implementamos um método para executar a máquina até atingir um estado final.\n",
    "    "
   ]
  },
  {
   "cell_type": "code",
   "execution_count": 9,
   "metadata": {},
   "outputs": [
    {
     "name": "stdout",
     "output_type": "stream",
     "text": [
      "Tape: _1B01\n",
      "       ^\n",
      "State: q1\n",
      "\n",
      "Tape: __B01\n",
      "        ^\n",
      "State: q1\n",
      "\n",
      "Nenhuma transição encontrada. Máquina encerrada.\n"
     ]
    }
   ],
   "source": [
    "def run_turing_machine(machine, program):\n",
    "    pass\n",
    "\n",
    "machine = TuringMachine(tape, initial_position, initial_state)\n",
    "run_turing_machine(machine, program)\n",
    "    "
   ]
  },
  {
   "cell_type": "markdown",
   "metadata": {},
   "source": [
    "# **Exercício:**\n",
    "    \n",
    "Agora que vimos como funciona uma Máquina de Turing, implemente uma nova versão que realize uma operação diferente.  \n",
    "\n",
    "## **Objetivo**  \n",
    "Crie uma Máquina de Turing que **inverta todos os bits** em uma fita binária. Ou seja:  \n",
    "- `0` deve ser transformado em `1`  \n",
    "- `1` deve ser transformado em `0`  \n",
    "- O Ponteiro deve percorrer toda a fita e parar quando encontrar um espaço em branco (`B`).  \n",
    "\n",
    "## **Passo a Passo**  \n",
    "1. **Defina uma nova fita de entrada**, como: `['0', '1', '1', '0', 'B']`.  \n",
    "2. **Crie uma tabela de transição** que inverta os valores:  \n",
    "   - Se `0` for encontrado, transforme em `1` e mova para a direita.  \n",
    "   - Se `1` for encontrado, transforme em `0` e mova para a direita.  \n",
    "   - Se `B` for encontrado, pare a execução.  \n",
    "3. **Implemente a lógica da máquina**, modificando a classe `TuringMachine`.  \n",
    "4. **Execute a máquina e verifique o resultado esperado:**  \n",
    "\n",
    "Implemente a sua solução no código abaixo:\n",
    "    "
   ]
  },
  {
   "cell_type": "markdown",
   "metadata": {},
   "source": [
    "1. Qual a saída esperada?"
   ]
  },
  {
   "cell_type": "code",
   "execution_count": 24,
   "metadata": {},
   "outputs": [
    {
     "name": "stdout",
     "output_type": "stream",
     "text": [
      "010B1\n",
      "^\n",
      "State: q0\n",
      "110B1\n",
      " ^\n",
      "State: q1\n",
      "100B1\n",
      "  ^\n",
      "State: q1\n",
      "101B1\n",
      "   ^\n",
      "State: q0\n",
      "\n",
      "Fim\n"
     ]
    }
   ],
   "source": [
    "maquina = TuringMachine([\"0\", \"1\", \"0\",\"B\",\"1\"], 0, \"q0\")\n",
    "maquina.runUnsEZeros()"
   ]
  },
  {
   "cell_type": "markdown",
   "metadata": {},
   "source": [
    "2. Implemente a sua solução nas células abaixo:"
   ]
  },
  {
   "cell_type": "code",
   "execution_count": null,
   "metadata": {},
   "outputs": [],
   "source": []
  }
 ],
 "metadata": {
  "kernelspec": {
   "display_name": "Python 3",
   "language": "python",
   "name": "python3"
  },
  "language_info": {
   "codemirror_mode": {
    "name": "ipython",
    "version": 3
   },
   "file_extension": ".py",
   "mimetype": "text/x-python",
   "name": "python",
   "nbconvert_exporter": "python",
   "pygments_lexer": "ipython3",
   "version": "3.12.1"
  }
 },
 "nbformat": 4,
 "nbformat_minor": 4
}
