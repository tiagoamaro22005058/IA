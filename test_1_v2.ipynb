{
  "cells": [
    {
      "cell_type": "markdown",
      "metadata": {
        "id": "view-in-github",
        "colab_type": "text"
      },
      "source": [
        "<a href=\"https://colab.research.google.com/github/tiagoamaro22005058/IA/blob/main/test_1_v2.ipynb\" target=\"_parent\"><img src=\"https://colab.research.google.com/assets/colab-badge.svg\" alt=\"Open In Colab\"/></a>"
      ]
    },
    {
      "cell_type": "markdown",
      "id": "f0aa7b92",
      "metadata": {
        "id": "f0aa7b92"
      },
      "source": [
        "# **Identificação**:"
      ]
    },
    {
      "cell_type": "markdown",
      "id": "0915001e",
      "metadata": {
        "id": "0915001e"
      },
      "source": [
        "- `Número de aluno`:\n",
        "- `Nome`:\n",
        "- `Data`: / /"
      ]
    },
    {
      "cell_type": "markdown",
      "id": "804dec1b",
      "metadata": {
        "id": "804dec1b"
      },
      "source": [
        "# **Instruções:**\n",
        "- Justifique suas respostas quando solicitado.\n",
        "- Não é permitido a consulta a outros alunos ou a qualquer material externo.\n",
        "- Eletronic devices estão proibidos durante o teste.\n",
        "- Teste seus códigos com diferentes entradas para garantir seu funcionamento.\n",
        "- Salve o notebook com seu `número de aluno` antes de entregar. Exemplo: `2022000000.ipynb`.\n",
        "- Faça silêncio em respeito aos colegas que ainda estão realizando o teste."
      ]
    },
    {
      "cell_type": "markdown",
      "id": "6dc995e0",
      "metadata": {
        "id": "6dc995e0"
      },
      "source": [
        "# **Questões:**"
      ]
    },
    {
      "cell_type": "markdown",
      "id": "59a82348",
      "metadata": {
        "id": "59a82348"
      },
      "source": [
        "## 1. Implemente uma Máquina de Turing:\n",
        "\n",
        "- Esta máquina deve ser capaz de mover o ponteiro de leitura/escrita para a direita ou para a esquerda, ler o símbolo atual, escrever um novo símbolo e mudar de estado conforme as regras de transição."
      ]
    },
    {
      "cell_type": "code",
      "execution_count": null,
      "id": "d7d240ac",
      "metadata": {
        "id": "d7d240ac"
      },
      "outputs": [],
      "source": [
        "class TuringMachine:\n",
        "    def __init__(self, states, initial_state, final_states, transitions, tape):\n",
        "        self.states = states\n",
        "        self.initial_state = initial_state\n",
        "        self.final_states = final_states\n",
        "        self.transitions = transitions\n",
        "        self.tape = tape\n",
        "        self.head_position = 0\n",
        "        self.current_state = initial_state\n",
        "\n",
        "    def run(self):\n",
        "        while self.current_state not in self.final_states:\n",
        "            current_symbol = self.tape[self.head_position]\n",
        "            transition_key = (self.current_state, current_symbol)\n",
        "\n",
        "            if transition_key in self.transitions:\n",
        "                new_state, new_symbol, move_direction = self.transitions[transition_key]\n",
        "                self.tape[self.head_position] = new_symbol\n",
        "                self.current_state = new_state\n",
        "\n",
        "                if move_direction == 'R':\n",
        "                    self.head_position += 1\n",
        "                    if self.head_position >= len(self.tape):\n",
        "                        self.tape.append('_')  # Extend tape if needed\n",
        "                elif move_direction == 'L':\n",
        "                    self.head_position -= 1\n",
        "                    if self.head_position < 0:\n",
        "                        self.tape.insert(0, '_')  # Extend tape if needed\n",
        "                        self.head_position = 0\n",
        "            else:\n",
        "                break  # Halt if no transition is defined\n",
        "\n",
        "        return self.tape"
      ]
    },
    {
      "cell_type": "markdown",
      "id": "cb08b683",
      "metadata": {
        "id": "cb08b683"
      },
      "source": [
        "## 2. Analise as regras da tabela de transições a seguir e forneça a saída conforme a fita abaixo:\n",
        "\n",
        "O estado `qf` é o **estado final**. A máquina começa no estado `q0` e lê o símbolo atual na `posição 0` da fita.\n",
        "\n",
        "| Estado atual | Símbolo lido | Novo estado | Símbolo escrito | Direção |\n",
        "|--------------|--------------|-------------|------------------|----------|\n",
        "| q0 | 0 | q1 | 0 | R |\n",
        "| q0 | 1 | q1 | 1 | R |\n",
        "| q0 | _ | qf | _ | L |\n",
        "| q1 | 0 | q0 | 0 | R |\n",
        "| q1 | 1 | q1 | 1 | R |\n",
        "| q1 | _ | qf | _ | L |\n",
        "\n",
        "- `Fita`: `10010_0_1__`\n",
        "\n",
        "A cada iteração, exiba o a fita, o estado atual da máquina e a posição do ponteiro de leitura/escrita."
      ]
    },
    {
      "cell_type": "code",
      "execution_count": null,
      "id": "82b7b948",
      "metadata": {
        "id": "82b7b948"
      },
      "outputs": [],
      "source": [
        "tape = ['1', '0', '0', '1', '0' '_', '0', '_', '1', '_', '_']"
      ]
    },
    {
      "cell_type": "code",
      "execution_count": null,
      "id": "898b26c2",
      "metadata": {
        "id": "898b26c2"
      },
      "outputs": [],
      "source": [
        "transicoes = {\n",
        "    ('q0', '0'): ('q1', '0', 'R'),\n",
        "    ('q0', '1'): ('q1', '1', 'R'),\n",
        "    ('q0', '_'): ('qf', '_', 'L'),\n",
        "    ('q1', '0'): ('q0', '0', 'R'),\n",
        "    ('q1', '1'): ('q1', '1', 'R'),\n",
        "    ('q1', '_'): ('qf', '_', 'L'),\n",
        "}\n",
        "\n",
        "estado = 'q0'\n",
        "pos = 0\n",
        "estado_final = 'qf'\n"
      ]
    },
    {
      "cell_type": "code",
      "execution_count": null,
      "id": "834e412a",
      "metadata": {
        "colab": {
          "base_uri": "https://localhost:8080/"
        },
        "id": "834e412a",
        "outputId": "ea672d72-3df6-4719-b43e-ef716b11f728"
      },
      "outputs": [
        {
          "name": "stdout",
          "output_type": "stream",
          "text": [
            "Fita: 10010_0_1__ | Estado: q1 | Posição: 1\n",
            "Fita: 10010_0_1__ | Estado: q0 | Posição: 2\n",
            "Fita: 10010_0_1__ | Estado: q1 | Posição: 3\n",
            "Fita: 10010_0_1__ | Estado: q1 | Posição: 4\n"
          ]
        }
      ],
      "source": [
        "while estado != estado_final:\n",
        "    simbolo = tape[pos]\n",
        "    chave = (estado, simbolo)\n",
        "\n",
        "    if chave in transicoes:\n",
        "        novo_estado, novo_simbolo, direcao = transicoes[chave]\n",
        "        tape[pos] = novo_simbolo\n",
        "        estado = novo_estado\n",
        "\n",
        "        if direcao == 'R':\n",
        "            pos += 1\n",
        "            if pos >= len(tape):\n",
        "                tape.append('_')\n",
        "        elif direcao == 'L':\n",
        "            pos -= 1\n",
        "            if pos < 0:\n",
        "                tape.insert(0, '_')\n",
        "                pos = 0\n",
        "    else:\n",
        "        break\n",
        "\n",
        "    print(f\"Fita: {''.join(tape)} | Estado: {estado} | Posição: {pos}\")"
      ]
    },
    {
      "cell_type": "markdown",
      "id": "b941a49f",
      "metadata": {
        "id": "b941a49f"
      },
      "source": [
        "O estado `qf` é o **estado final**. A máquina começa no estado `q1` e lê o símbolo atual na `posição 2` da fita (`ponteiro no símbolo 'A'`).\n",
        "\n",
        "| Estado atual | Símbolo lido | Novo estado | Símbolo escrito | Direção |\n",
        "|--------------|--------------|-------------|------------------|----------|\n",
        "| q0 | 0 | q1 | 1 | R |\n",
        "| q0 | 1 | q1 | 0 | R |\n",
        "| q0 | _ | qf | _ | L |\n",
        "| q0 | A | q0 | _ | R |\n",
        "| q1 | 0 | q0 | 1 | R |\n",
        "| q1 | 1 | q1 | 0 | R |\n",
        "| q1 | _ | qf | _ | L |\n",
        "| q1 | A | q0 | _ | R |\n",
        "\n",
        "\n",
        "- `Fita`: `1AA10A_0A_1__11`\n",
        "\n",
        "A cada iteração, exiba o a fita, o estado atual da máquina e a posição do ponteiro de leitura/escrita."
      ]
    },
    {
      "cell_type": "code",
      "execution_count": null,
      "id": "fb54c30b",
      "metadata": {
        "id": "fb54c30b"
      },
      "outputs": [],
      "source": [
        "tape = ['1', 'A', 'A', '1', '0', 'A', '_', '0', 'A', '_', '1', '_', '_', '1', '1']"
      ]
    },
    {
      "cell_type": "code",
      "execution_count": null,
      "id": "509440b3",
      "metadata": {
        "colab": {
          "base_uri": "https://localhost:8080/"
        },
        "id": "509440b3",
        "outputId": "b5c35116-757e-4d84-fb35-49b7a328e87e"
      },
      "outputs": [
        {
          "name": "stdout",
          "output_type": "stream",
          "text": [
            "Fita: 10110_0_1__ | Estado: q0 | Posição: 3\n",
            "Fita: 10100_0_1__ | Estado: q1 | Posição: 4\n"
          ]
        }
      ],
      "source": [
        "transicoes = {\n",
        "    ('q0', '0'): ('q1', '1', 'R'),\n",
        "    ('q0', '1'): ('q1', '0', 'R'),\n",
        "    ('q0', '_'): ('qf', '_', 'L'),\n",
        "    ('q0', 'A'): ('q0', 'A', 'R'),\n",
        "\n",
        "    ('q1', '0'): ('q0', '1', 'R'),\n",
        "    ('q1', '1'): ('q1', '1', 'R'),\n",
        "    ('q1', '_'): ('qf', '_', 'L'),\n",
        "    ('q1', 'A'): ('q1', 'A', 'R'),\n",
        "}\n",
        "\n",
        "estado = 'q1'\n",
        "pos = 2\n",
        "estado_final = 'qf'\n",
        "\n",
        "while estado != estado_final:\n",
        "    simbolo = tape[pos]\n",
        "    chave = (estado, simbolo)\n",
        "\n",
        "    if chave in transicoes:\n",
        "        novo_estado, novo_simbolo, direcao = transicoes[chave]\n",
        "        tape[pos] = novo_simbolo\n",
        "        estado = novo_estado\n",
        "\n",
        "        if direcao == 'R':\n",
        "            pos += 1\n",
        "            if pos >= len(tape):\n",
        "                tape.append('_')\n",
        "        elif direcao == 'L':\n",
        "            pos -= 1\n",
        "            if pos < 0:\n",
        "                tape.insert(0, '_')\n",
        "                pos = 0\n",
        "    else:\n",
        "        break\n",
        "\n",
        "    print(f\"Fita: {''.join(tape)} | Estado: {estado} | Posição: {pos}\")\n"
      ]
    },
    {
      "cell_type": "markdown",
      "id": "a78edf19",
      "metadata": {
        "id": "a78edf19"
      },
      "source": [
        "## 3. A máquina de Turing é um modelo abstrato de tamanho de fita infinito. O que você fez para modelar isso? Em outras palavras, assumindo que o ponteiro chegou no último símbolo da fita e recebeu instrução para movimentar-se para a direita, o que acontece?"
      ]
    },
    {
      "cell_type": "code",
      "execution_count": null,
      "id": "5f78cb56",
      "metadata": {
        "id": "5f78cb56"
      },
      "outputs": [],
      "source": [
        "#Para modelar a fita infinita da Máquina de Turing, implementei uma lista que cresce dinamicamente.\n",
        "#Quando o ponteiro de leitura/escrita chega ao final da fita e recebe uma instrução para mover-se para a direita,\n",
        "#adiciono um símbolo em branco ('_') ao final da lista para simular a continuação da fita.\n",
        "#Caso o ponteiro tentasse mover-se para a esquerda da posição inicial (posição 0),\n",
        "#também poderia ser inserido um símbolo em branco no início da lista. Desta forma, a fita pode expandir-se conforme necessário,\n",
        "#imitando o comportamento de uma fita teoricamente infinita.\n"
      ]
    },
    {
      "cell_type": "markdown",
      "id": "4f0ffa1d",
      "metadata": {
        "id": "4f0ffa1d"
      },
      "source": [
        "## 4. Construção de Neurônio:\n",
        "- Implemente um neurônio `McCulloch-Pitts` com dois pesos `1` e limiar `2`.\n",
        "\n",
        "Esse neurônio simula qual porta lógica?\n",
        "- a) OR\n",
        "- b) AND\n",
        "- c) NOT\n",
        "- d) NAND\n",
        "\n",
        "Explique sua resposta e mostre a tabela verdade resultante."
      ]
    },
    {
      "cell_type": "code",
      "execution_count": null,
      "id": "18d6fde5",
      "metadata": {
        "id": "18d6fde5"
      },
      "outputs": [],
      "source": [
        "# b) AND"
      ]
    },
    {
      "cell_type": "code",
      "execution_count": null,
      "id": "4c0b0e25",
      "metadata": {
        "colab": {
          "base_uri": "https://localhost:8080/"
        },
        "id": "4c0b0e25",
        "outputId": "25cb0e82-4bff-4c1c-e4a7-dc26fe6f06bb"
      },
      "outputs": [
        {
          "name": "stdout",
          "output_type": "stream",
          "text": [
            "x1 | x2 | saída\n",
            " 0 |  0 |   0\n",
            " 0 |  1 |   0\n",
            " 1 |  0 |   0\n",
            " 1 |  1 |   1\n"
          ]
        }
      ],
      "source": [
        "def neuronio_and2(x1, x2, w1=1, w2=1, limiar=2):\n",
        "    soma = x1 * w1 + x2 * w2\n",
        "    return 1 if soma >= limiar else 0\n",
        "\n",
        "# A porta logica AND recebe dois outputs se for 1 nos dois dá output the 1, caso contrario da 0\n",
        "entradas2 = [(0, 0), (0, 1), (1, 0), (1, 1)]\n",
        "\n",
        "print(\"x1 | x2 | saída\")\n",
        "for x1, x2 in entradas2:\n",
        "    saida = neuronio_and2(x1, x2)\n",
        "    print(f\" {x1} |  {x2} |   {saida}\")"
      ]
    },
    {
      "cell_type": "markdown",
      "id": "4713c64c",
      "metadata": {
        "id": "4713c64c"
      },
      "source": [
        "## 5. Portas Lógicas:\n",
        "Implemente neurônios que simulem:\n",
        "- Porta AND para dois neurônios\n",
        "- Porta AND para três neurônios\n",
        "\n",
        "O output deve considerar a exibição da tabela verdade para cada porta lógica. Utilize pesos e limiares adequados para cada porta lógica."
      ]
    },
    {
      "cell_type": "code",
      "execution_count": null,
      "id": "4f4dc599",
      "metadata": {
        "colab": {
          "base_uri": "https://localhost:8080/"
        },
        "id": "4f4dc599",
        "outputId": "3fa03e70-c779-4a8b-e46b-2b079cefc7bf"
      },
      "outputs": [
        {
          "name": "stdout",
          "output_type": "stream",
          "text": [
            "x1 | x2 | saída\n",
            " 0 |  0 |   0\n",
            " 0 |  1 |   0\n",
            " 1 |  0 |   0\n",
            " 1 |  1 |   1\n"
          ]
        }
      ],
      "source": [
        "def neuronio_and2(x1, x2, w1=1, w2=1, limiar=2):\n",
        "    soma = x1 * w1 + x2 * w2\n",
        "    return 1 if soma >= limiar else 0\n",
        "\n",
        "entradas2 = [(0, 0), (0, 1), (1, 0), (1, 1)]\n",
        "\n",
        "print(\"x1 | x2 | saída\")\n",
        "for x1, x2 in entradas2:\n",
        "    saida = neuronio_and2(x1, x2)\n",
        "    print(f\" {x1} |  {x2} |   {saida}\")\n"
      ]
    },
    {
      "cell_type": "code",
      "execution_count": null,
      "id": "7e5c47e5",
      "metadata": {
        "colab": {
          "base_uri": "https://localhost:8080/"
        },
        "id": "7e5c47e5",
        "outputId": "0e30efe5-2e13-483b-d00b-28df54d29b68"
      },
      "outputs": [
        {
          "name": "stdout",
          "output_type": "stream",
          "text": [
            "x1 | x2 | x3 | saída\n",
            " 0 |  0 |  0 |   0\n",
            " 0 |  0 |  1 |   0\n",
            " 0 |  1 |  0 |   0\n",
            " 0 |  1 |  1 |   0\n",
            " 1 |  0 |  0 |   0\n",
            " 1 |  0 |  1 |   0\n",
            " 1 |  1 |  0 |   0\n",
            " 1 |  1 |  1 |   1\n"
          ]
        }
      ],
      "source": [
        "def neuronio_and3(x1, x2, x3, w1=1, w2=1, w3=1, limiar=3):\n",
        "    soma = x1 * w1 + x2 * w2 + x3 * w3\n",
        "    return 1 if soma >= limiar else 0\n",
        "\n",
        "# Tabela verdade para AND de 3 entradas\n",
        "entradas3 = [(0, 0, 0), (0, 0, 1), (0, 1, 0), (0, 1, 1),\n",
        "             (1, 0, 0), (1, 0, 1), (1, 1, 0), (1, 1, 1)]\n",
        "\n",
        "print(\"x1 | x2 | x3 | saída\")\n",
        "for x1, x2, x3 in entradas3:\n",
        "    saida = neuronio_and3(x1, x2, x3)\n",
        "    print(f\" {x1} |  {x2} |  {x3} |   {saida}\")\n"
      ]
    },
    {
      "cell_type": "markdown",
      "id": "8087852c",
      "metadata": {
        "id": "8087852c"
      },
      "source": [
        "## 6. Signal Gate com dois destinos\n",
        "Implemente dois neurônios para simular um sistema onde:\n",
        "- `Receiver 1` ativa se `entrada = 1` e `controle = 0`\n",
        "- `Receiver 2` ativa se `entrada = 1` e `controle = 1`\n",
        "\n",
        "Defina os pesos e limiares para cada neurônio."
      ]
    },
    {
      "cell_type": "markdown",
      "id": "32621c85",
      "metadata": {
        "id": "32621c85"
      },
      "source": [
        "Lógica com Neurônios:\n",
        "- Receiver 1 (entrada = 1, controle = 0)\n",
        "Usamos pesos [1, 1]\n",
        "\n",
        "    - Entrada = 1, Controle = 0 → [1, 1] com valores [1, 1 - controle]\n",
        "\n",
        "    - Limiar = 2\n",
        "\n",
        "    - Só ativa se entrada=1 e controle=0\n",
        "\n",
        "- Receiver 2 (entrada = 1, controle = 1)\n",
        "    - Entrada = 1, Controle = 1 → [1, 1]\n",
        "\n",
        "    - Limiar = 2\n",
        "\n",
        "    - Só ativa se entrada=1 e controle=1"
      ]
    },
    {
      "cell_type": "code",
      "execution_count": null,
      "id": "5171132d",
      "metadata": {
        "colab": {
          "base_uri": "https://localhost:8080/"
        },
        "id": "5171132d",
        "outputId": "e2b14848-0a2e-4b08-8743-bfa2bf0af97f"
      },
      "outputs": [
        {
          "name": "stdout",
          "output_type": "stream",
          "text": [
            "Entrada | Controle | Receiver 1 | Receiver 2\n",
            "   0    |    0     |     0      |     0\n",
            "   0    |    1     |     0      |     0\n",
            "   1    |    0     |     1      |     0\n",
            "   1    |    1     |     0      |     1\n"
          ]
        }
      ],
      "source": [
        "def receiver1(entrada, controle):\n",
        "    pesos = [1, 1]\n",
        "    entrada_vetor = [entrada, 1 - controle]\n",
        "    soma = sum([x * w for x, w in zip(entrada_vetor, pesos)])\n",
        "    return 1 if soma >= 2 else 0\n",
        "\n",
        "def receiver2(entrada, controle):\n",
        "    pesos = [1, 1]\n",
        "    entrada_vetor = [entrada, controle]\n",
        "    soma = sum([x * w for x, w in zip(entrada_vetor, pesos)])\n",
        "    return 1 if soma >= 2 else 0\n",
        "\n",
        "print(\"Entrada | Controle | Receiver 1 | Receiver 2\")\n",
        "for entrada in [0, 1]:\n",
        "    for controle in [0, 1]:\n",
        "        r1 = receiver1(entrada, controle)\n",
        "        r2 = receiver2(entrada, controle)\n",
        "        print(f\"   {entrada}    |    {controle}     |     {r1}      |     {r2}\")\n"
      ]
    },
    {
      "cell_type": "markdown",
      "id": "e3ddefc5",
      "metadata": {
        "id": "e3ddefc5"
      },
      "source": [
        "## 7. Considerando a rede neural abaixo:\n",
        "\n",
        "![image.png](image.png)\n",
        "\n",
        "- 7.1. qual o output em cada instante de tempo para a entrada a seguir:\n",
        "\n",
        "    - 10101110001110000010\n",
        "\n"
      ]
    },
    {
      "cell_type": "code",
      "execution_count": null,
      "id": "542a123a",
      "metadata": {
        "id": "542a123a"
      },
      "outputs": [],
      "source": [
        "# entrada: 10101110001110000010\n",
        "# output: 0000000000000000000  <------ Minha resposta"
      ]
    },
    {
      "cell_type": "markdown",
      "id": "8bb566d1",
      "metadata": {
        "id": "8bb566d1"
      },
      "source": [
        "- 7.2 Explique o funcionamento da rede neural"
      ]
    },
    {
      "cell_type": "code",
      "execution_count": null,
      "id": "5cad947f",
      "metadata": {
        "id": "5cad947f"
      },
      "outputs": [],
      "source": [
        "# O primeiro neurônio recebe como entrada o valor atual da sequência e os estados anteriores dos dois neurônios.\n",
        "# O segundo neurônio utiliza a saída do primeiro e o seu próprio estado anterior.\n",
        "# A ativação acontece quando a soma ultrapassa ou atinge o limiar de 2.\n",
        "# O resultado (output) é a saída do segundo neurônio a cada instante de tempo.\n",
        "# Esse tipo de rede consegue \"memorizar\" padrões ao longo do tempo por causa da realimentação (feedback)."
      ]
    },
    {
      "cell_type": "markdown",
      "id": "189cad41",
      "metadata": {
        "id": "189cad41"
      },
      "source": [
        "## 8. O artigo trabalhado em aula, \"LLMs and Artificial General Intelligence (AGI)\" apresenta entre vários outros pontos a definição de AGI segundo a OpenAI. Por que desafiar tal conceito? Comente sobre a definição de AGI e como ela se relaciona com o conceito de inteligência geral humana. Você concorda com a definição apresentada? Justifique sua resposta."
      ]
    },
    {
      "cell_type": "code",
      "execution_count": null,
      "id": "86bcd2d5",
      "metadata": {
        "id": "86bcd2d5"
      },
      "outputs": [],
      "source": [
        "# A definição de AGI segundo a OpenAI envolve a capacidade de uma máquina\n",
        "# realizar qualquer tarefa cognitiva que um ser humano consegue executar.\n",
        "# O artigo discute se os LLMs já não demonstram formas limitadas, mas funcionais,\n",
        "# de inteligência geral. Embora não tenham consciência, conseguem resolver\n",
        "# problemas diversos e adaptar-se a contextos variados.\n",
        "# Concordo que isso desafia a definição tradicional de AGI. Talvez seja necessário\n",
        "# atualizar o conceito para refletir essas novas capacidades dos modelos atuais."
      ]
    }
  ],
  "metadata": {
    "colab": {
      "provenance": [],
      "include_colab_link": true
    },
    "kernelspec": {
      "display_name": "base",
      "language": "python",
      "name": "python3"
    },
    "language_info": {
      "codemirror_mode": {
        "name": "ipython",
        "version": 3
      },
      "file_extension": ".py",
      "mimetype": "text/x-python",
      "name": "python",
      "nbconvert_exporter": "python",
      "pygments_lexer": "ipython3",
      "version": "3.11.4"
    }
  },
  "nbformat": 4,
  "nbformat_minor": 5
}